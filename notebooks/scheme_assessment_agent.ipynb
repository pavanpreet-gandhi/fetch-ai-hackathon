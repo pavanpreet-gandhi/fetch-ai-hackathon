{
 "cells": [
  {
   "cell_type": "code",
   "execution_count": 2,
   "metadata": {},
   "outputs": [],
   "source": [
    "import json\n",
    "import pandas as pd"
   ]
  },
  {
   "cell_type": "code",
   "execution_count": 3,
   "metadata": {},
   "outputs": [
    {
     "data": {
      "text/html": [
       "<div>\n",
       "<style scoped>\n",
       "    .dataframe tbody tr th:only-of-type {\n",
       "        vertical-align: middle;\n",
       "    }\n",
       "\n",
       "    .dataframe tbody tr th {\n",
       "        vertical-align: top;\n",
       "    }\n",
       "\n",
       "    .dataframe thead th {\n",
       "        text-align: right;\n",
       "    }\n",
       "</style>\n",
       "<table border=\"1\" class=\"dataframe\">\n",
       "  <thead>\n",
       "    <tr style=\"text-align: right;\">\n",
       "      <th></th>\n",
       "      <th>id</th>\n",
       "      <th>first_name</th>\n",
       "      <th>last_name</th>\n",
       "      <th>age</th>\n",
       "      <th>is_resident</th>\n",
       "      <th>is_unemployed</th>\n",
       "      <th>has_insufficient_means</th>\n",
       "      <th>vision_impaired</th>\n",
       "      <th>is_widow_or_widower</th>\n",
       "      <th>is_not_cohabiting</th>\n",
       "      <th>...</th>\n",
       "      <th>is_providing_care</th>\n",
       "      <th>husband_in_prison</th>\n",
       "      <th>is_single_woman</th>\n",
       "      <th>is_orphan</th>\n",
       "      <th>department</th>\n",
       "      <th>hiring_manager</th>\n",
       "      <th>number_of_children</th>\n",
       "      <th>date_of_hire</th>\n",
       "      <th>employment_status</th>\n",
       "      <th>annual_income</th>\n",
       "    </tr>\n",
       "  </thead>\n",
       "  <tbody>\n",
       "    <tr>\n",
       "      <th>0</th>\n",
       "      <td>1</td>\n",
       "      <td>Mary</td>\n",
       "      <td>Smith</td>\n",
       "      <td>32</td>\n",
       "      <td>1</td>\n",
       "      <td>0</td>\n",
       "      <td>0</td>\n",
       "      <td>0</td>\n",
       "      <td>0</td>\n",
       "      <td>0</td>\n",
       "      <td>...</td>\n",
       "      <td>0</td>\n",
       "      <td>0</td>\n",
       "      <td>0</td>\n",
       "      <td>0</td>\n",
       "      <td>Marketing</td>\n",
       "      <td>John Doe</td>\n",
       "      <td>2</td>\n",
       "      <td>2019-05-15</td>\n",
       "      <td>Full-time</td>\n",
       "      <td>55000.0</td>\n",
       "    </tr>\n",
       "    <tr>\n",
       "      <th>1</th>\n",
       "      <td>2</td>\n",
       "      <td>John</td>\n",
       "      <td>Johnson</td>\n",
       "      <td>45</td>\n",
       "      <td>1</td>\n",
       "      <td>0</td>\n",
       "      <td>0</td>\n",
       "      <td>0</td>\n",
       "      <td>0</td>\n",
       "      <td>0</td>\n",
       "      <td>...</td>\n",
       "      <td>0</td>\n",
       "      <td>0</td>\n",
       "      <td>0</td>\n",
       "      <td>0</td>\n",
       "      <td>Engineering</td>\n",
       "      <td>Jane Smith</td>\n",
       "      <td>3</td>\n",
       "      <td>2020-02-28</td>\n",
       "      <td>Full-time</td>\n",
       "      <td>72000.0</td>\n",
       "    </tr>\n",
       "    <tr>\n",
       "      <th>2</th>\n",
       "      <td>3</td>\n",
       "      <td>Jennifer</td>\n",
       "      <td>Brown</td>\n",
       "      <td>28</td>\n",
       "      <td>1</td>\n",
       "      <td>0</td>\n",
       "      <td>0</td>\n",
       "      <td>1</td>\n",
       "      <td>0</td>\n",
       "      <td>1</td>\n",
       "      <td>...</td>\n",
       "      <td>0</td>\n",
       "      <td>0</td>\n",
       "      <td>1</td>\n",
       "      <td>0</td>\n",
       "      <td>HR</td>\n",
       "      <td>David Williams</td>\n",
       "      <td>0</td>\n",
       "      <td>2021-09-10</td>\n",
       "      <td>Part-time</td>\n",
       "      <td>38000.0</td>\n",
       "    </tr>\n",
       "  </tbody>\n",
       "</table>\n",
       "<p>3 rows × 21 columns</p>\n",
       "</div>"
      ],
      "text/plain": [
       "   id first_name last_name  age  is_resident  is_unemployed  \\\n",
       "0   1       Mary     Smith   32            1              0   \n",
       "1   2       John   Johnson   45            1              0   \n",
       "2   3   Jennifer     Brown   28            1              0   \n",
       "\n",
       "   has_insufficient_means  vision_impaired  is_widow_or_widower  \\\n",
       "0                       0                0                    0   \n",
       "1                       0                0                    0   \n",
       "2                       0                1                    0   \n",
       "\n",
       "   is_not_cohabiting  ...  is_providing_care  husband_in_prison  \\\n",
       "0                  0  ...                  0                  0   \n",
       "1                  0  ...                  0                  0   \n",
       "2                  1  ...                  0                  0   \n",
       "\n",
       "   is_single_woman  is_orphan   department  hiring_manager number_of_children  \\\n",
       "0                0          0    Marketing        John Doe                  2   \n",
       "1                0          0  Engineering      Jane Smith                  3   \n",
       "2                1          0           HR  David Williams                  0   \n",
       "\n",
       "   date_of_hire employment_status annual_income  \n",
       "0    2019-05-15         Full-time       55000.0  \n",
       "1    2020-02-28         Full-time       72000.0  \n",
       "2    2021-09-10         Part-time       38000.0  \n",
       "\n",
       "[3 rows x 21 columns]"
      ]
     },
     "execution_count": 3,
     "metadata": {},
     "output_type": "execute_result"
    }
   ],
   "source": [
    "df = pd.read_csv('data/sample_employee_data.csv')\n",
    "df.head(3)"
   ]
  },
  {
   "cell_type": "code",
   "execution_count": 4,
   "metadata": {},
   "outputs": [],
   "source": [
    "with open('data/sample_schema.json', 'r') as f:\n",
    "    sample_schema = json.load(f) # this is the schema for sample data"
   ]
  },
  {
   "cell_type": "code",
   "execution_count": 5,
   "metadata": {},
   "outputs": [],
   "source": [
    "from schema_agent import schema_agent"
   ]
  },
  {
   "cell_type": "code",
   "execution_count": 6,
   "metadata": {},
   "outputs": [],
   "source": [
    "rules = \"\"\"\n",
    "| Scheme | Scheme Rules |\n",
    "|--------|--------------|\n",
    "| **Unemployment Assistance** | 1. Resident of the State. 2. Unemployed but capable of and available for work. 3. Have insufficient means. |\n",
    "| **Old Age Assistance** | 1. Resident of the State. 2. Aged 66 years or over. 3. Have insufficient means. |\n",
    "| **Blind Pension** | 1. Resident of the State. 2. Aged 18 years or over. 3. Have a vision impairment. 4. Have insufficient means. |\n",
    "| **Widow’s and Widower’s (Non-Contributory) Pension** | 1. Resident of the State. 2. Widow or widower not cohabiting. 3. Have insufficient means. |\n",
    "| **Deserted Wife’s Allowance** | 1. Resident of the State. 2. Deserted by husband. 3. Have insufficient means. 4. Not cohabiting. |\n",
    "| **Carer's Allowance** | 1. Resident of the State. 2. Providing full-time care and attention to a person in need. 3. Have insufficient means. |\n",
    "| **Prisoner's Wife Allowance** | 1. Resident of the State. 2. Husband in prison. 3. Have insufficient means. 4. Not cohabiting. |\n",
    "| **Single Woman’s Allowance** | 1. Resident of the State. 2. Aged 58 years or over. 3. Single woman living alone. 4. Have insufficient means. |\n",
    "| **Orphan’s (Non-Contributory) Pension** | 1. Resident of the State. 2. Under 18 years of age. 3. Orphaned. 4. Have insufficient means. |\n",
    "\"\"\""
   ]
  },
  {
   "cell_type": "code",
   "execution_count": 7,
   "metadata": {},
   "outputs": [],
   "source": [
    "required_schema = schema_agent(sample_schema, rules)"
   ]
  },
  {
   "cell_type": "code",
   "execution_count": 8,
   "metadata": {},
   "outputs": [
    {
     "data": {
      "text/plain": [
       "['age',\n",
       " 'is_resident',\n",
       " 'is_unemployed',\n",
       " 'has_insufficient_means',\n",
       " 'vision_impaired',\n",
       " 'is_widow_or_widower',\n",
       " 'is_not_cohabiting',\n",
       " 'is_deserted_by_husband',\n",
       " 'is_providing_care',\n",
       " 'husband_in_prison',\n",
       " 'is_single_woman',\n",
       " 'is_orphan']"
      ]
     },
     "execution_count": 8,
     "metadata": {},
     "output_type": "execute_result"
    }
   ],
   "source": [
    "required_cols = [col['name'] for col in required_schema['columns']]\n",
    "required_cols"
   ]
  },
  {
   "cell_type": "code",
   "execution_count": 24,
   "metadata": {},
   "outputs": [
    {
     "data": {
      "text/html": [
       "<div>\n",
       "<style scoped>\n",
       "    .dataframe tbody tr th:only-of-type {\n",
       "        vertical-align: middle;\n",
       "    }\n",
       "\n",
       "    .dataframe tbody tr th {\n",
       "        vertical-align: top;\n",
       "    }\n",
       "\n",
       "    .dataframe thead th {\n",
       "        text-align: right;\n",
       "    }\n",
       "</style>\n",
       "<table border=\"1\" class=\"dataframe\">\n",
       "  <thead>\n",
       "    <tr style=\"text-align: right;\">\n",
       "      <th></th>\n",
       "      <th>age</th>\n",
       "      <th>is_resident</th>\n",
       "      <th>is_unemployed</th>\n",
       "      <th>has_insufficient_means</th>\n",
       "      <th>vision_impaired</th>\n",
       "      <th>is_widow_or_widower</th>\n",
       "      <th>is_not_cohabiting</th>\n",
       "      <th>is_deserted_by_husband</th>\n",
       "      <th>is_providing_care</th>\n",
       "      <th>husband_in_prison</th>\n",
       "      <th>is_single_woman</th>\n",
       "      <th>is_orphan</th>\n",
       "    </tr>\n",
       "  </thead>\n",
       "  <tbody>\n",
       "    <tr>\n",
       "      <th>0</th>\n",
       "      <td>32</td>\n",
       "      <td>1</td>\n",
       "      <td>0</td>\n",
       "      <td>0</td>\n",
       "      <td>0</td>\n",
       "      <td>0</td>\n",
       "      <td>0</td>\n",
       "      <td>0</td>\n",
       "      <td>0</td>\n",
       "      <td>0</td>\n",
       "      <td>0</td>\n",
       "      <td>0</td>\n",
       "    </tr>\n",
       "    <tr>\n",
       "      <th>1</th>\n",
       "      <td>45</td>\n",
       "      <td>1</td>\n",
       "      <td>0</td>\n",
       "      <td>0</td>\n",
       "      <td>0</td>\n",
       "      <td>0</td>\n",
       "      <td>0</td>\n",
       "      <td>0</td>\n",
       "      <td>0</td>\n",
       "      <td>0</td>\n",
       "      <td>0</td>\n",
       "      <td>0</td>\n",
       "    </tr>\n",
       "    <tr>\n",
       "      <th>2</th>\n",
       "      <td>28</td>\n",
       "      <td>1</td>\n",
       "      <td>0</td>\n",
       "      <td>0</td>\n",
       "      <td>1</td>\n",
       "      <td>0</td>\n",
       "      <td>1</td>\n",
       "      <td>0</td>\n",
       "      <td>0</td>\n",
       "      <td>0</td>\n",
       "      <td>1</td>\n",
       "      <td>0</td>\n",
       "    </tr>\n",
       "  </tbody>\n",
       "</table>\n",
       "</div>"
      ],
      "text/plain": [
       "   age  is_resident  is_unemployed  has_insufficient_means  vision_impaired  \\\n",
       "0   32            1              0                       0                0   \n",
       "1   45            1              0                       0                0   \n",
       "2   28            1              0                       0                1   \n",
       "\n",
       "   is_widow_or_widower  is_not_cohabiting  is_deserted_by_husband  \\\n",
       "0                    0                  0                       0   \n",
       "1                    0                  0                       0   \n",
       "2                    0                  1                       0   \n",
       "\n",
       "   is_providing_care  husband_in_prison  is_single_woman  is_orphan  \n",
       "0                  0                  0                0          0  \n",
       "1                  0                  0                0          0  \n",
       "2                  0                  0                1          0  "
      ]
     },
     "execution_count": 24,
     "metadata": {},
     "output_type": "execute_result"
    }
   ],
   "source": [
    "required_df = df[required_cols]\n",
    "required_df.head(3)"
   ]
  },
  {
   "cell_type": "code",
   "execution_count": 11,
   "metadata": {},
   "outputs": [],
   "source": [
    "import ollama"
   ]
  },
  {
   "cell_type": "code",
   "execution_count": 31,
   "metadata": {},
   "outputs": [],
   "source": [
    "client = ollama.Client('http://localhost:11434')"
   ]
  },
  {
   "cell_type": "code",
   "execution_count": 37,
   "metadata": {},
   "outputs": [
    {
     "name": "stdout",
     "output_type": "stream",
     "text": [
      "Hello! I'm a 32-year-old individual who is a resident of the state. I am employed and do not have insufficient means. I don't have any vision impairments and I am not a widow or widower. Additionally, I am not cohabiting with anyone, nor have I been deserted by my husband. I am also not providing full-time care to someone, nor is my husband in prison. Finally, I am not an orphan or a single woman. That's me!\n"
     ]
    }
   ],
   "source": [
    "def create_user_message(row: pd.Series, schema: dict) -> str:\n",
    "    \"\"\"\n",
    "    Agent to write an introduction for the user based on the data provided and the schema.\n",
    "    \"\"\"\n",
    "    system_message = f\"Your job is to introduce yourself as the user based on the data provided and the schema. Make sure to include all the information (and no more) and be consise and clear. This is the schema: \\n\\n{schema}\"\n",
    "    messages = [\n",
    "        {'role': 'system', 'content': system_message},\n",
    "        {'role': 'user', 'content': str(row)},\n",
    "    ]\n",
    "    response = client.chat('llama3', messages)\n",
    "    return response['message']['content']\n",
    "\n",
    "user_message = create_user_message(required_df.iloc[0], required_schema)\n",
    "print(user_message)"
   ]
  },
  {
   "cell_type": "code",
   "execution_count": 39,
   "metadata": {},
   "outputs": [
    {
     "name": "stdout",
     "output_type": "stream",
     "text": [
      "Thank you for sharing your personal information!\n",
      "\n",
      "After reviewing the rules and your details, I can confidently say that you do not fit into any of the insurance schemes mentioned earlier.\n",
      "\n",
      "You are employed, which means you have sufficient means, and none of the other criteria (residency, age, vision impairment, marital status, cohabitation, full-time care provision, imprisonment, or orphanage) apply to you.\n",
      "\n",
      "So, it appears that you do not fall under any of the insurance schemes outlined. If you'd like to clarify anything further or have any specific questions about a particular scheme, feel free to ask!\n"
     ]
    }
   ],
   "source": [
    "def assess_scheme(user_message: str, rules: str) -> str:\n",
    "    \"\"\"\n",
    "    Agent to assess the user message based on the rules provided.\n",
    "    \"\"\"\n",
    "    system_message = f\"\"\"\n",
    "    You are a helpful AI assistant who is an expert at insurance schemes. \n",
    "    Your job is to determine which scheme a user falls into based on their personal information. \n",
    "    You must use the following rules to determine the scheme: \\n\\n{rules}\n",
    "    \"\"\"\n",
    "    messages = [\n",
    "        {'role': 'system', 'content': system_message},\n",
    "        {'role': 'user', 'content': user_message},\n",
    "    ]\n",
    "    response = client.chat('llama3', messages)\n",
    "    return response['message']['content']\n",
    "\n",
    "scheme_analysis = assess_scheme(user_message, rules)\n",
    "print(scheme_analysis)"
   ]
  },
  {
   "cell_type": "code",
   "execution_count": 42,
   "metadata": {},
   "outputs": [
    {
     "name": "stdout",
     "output_type": "stream",
     "text": [
      "No Scheme\n"
     ]
    }
   ],
   "source": [
    "def scheme_result(scheme_analysis: str) -> str:\n",
    "    \"\"\"\n",
    "    Agent to extract the result of the scheme analysis.\n",
    "    \"\"\"\n",
    "    system_message = f\"\"\"\n",
    "    You are a helpful AI assistant who is an expert at insurance schemes. \n",
    "    Your job is to output the scheme that the user is matched to based on the provided analysis.\n",
    "    Only reply with the scheme name and nothing else. If the user is not compatible with any scheme, reply with 'No Scheme'.\n",
    "    You must use the scheme names from the following rules: \\n\\n{rules}\n",
    "    \"\"\"\n",
    "    messages = [\n",
    "        {'role': 'system', 'content': system_message},\n",
    "        {'role': 'user', 'content': scheme_analysis},\n",
    "    ]\n",
    "    response = client.chat('llama3', messages)\n",
    "    return response['message']['content']\n",
    "\n",
    "scheme = scheme_result(scheme_analysis)\n",
    "print(scheme)"
   ]
  },
  {
   "cell_type": "code",
   "execution_count": 45,
   "metadata": {},
   "outputs": [
    {
     "name": "stdout",
     "output_type": "stream",
     "text": [
      "No Scheme\n"
     ]
    }
   ],
   "source": [
    "def get_scheme(row: pd.Series, schema: dict, rules: str) -> str:\n",
    "    \"\"\"\n",
    "    Agent to get the scheme based on the row data.\n",
    "    \"\"\"\n",
    "    user_message = create_user_message(row, schema)\n",
    "    scheme_analysis = assess_scheme(user_message, rules)\n",
    "    scheme = scheme_result(scheme_analysis)\n",
    "    return scheme\n",
    "\n",
    "scheme = get_scheme(required_df.iloc[2], required_schema, rules)\n",
    "print(scheme)"
   ]
  },
  {
   "cell_type": "code",
   "execution_count": 46,
   "metadata": {},
   "outputs": [
    {
     "data": {
      "text/plain": [
       "0            No Scheme\n",
       "1            No Scheme\n",
       "2    **Blind Pension**\n",
       "3            No Scheme\n",
       "4            No Scheme\n",
       "5            No Scheme\n",
       "6            No Scheme\n",
       "7            No Scheme\n",
       "8            No Scheme\n",
       "9            No Scheme\n",
       "dtype: object"
      ]
     },
     "execution_count": 46,
     "metadata": {},
     "output_type": "execute_result"
    }
   ],
   "source": [
    "df.head(10).apply(lambda row: get_scheme(row, required_schema, rules), axis=1)"
   ]
  },
  {
   "cell_type": "code",
   "execution_count": null,
   "metadata": {},
   "outputs": [],
   "source": []
  }
 ],
 "metadata": {
  "kernelspec": {
   "display_name": ".venv",
   "language": "python",
   "name": "python3"
  },
  "language_info": {
   "codemirror_mode": {
    "name": "ipython",
    "version": 3
   },
   "file_extension": ".py",
   "mimetype": "text/x-python",
   "name": "python",
   "nbconvert_exporter": "python",
   "pygments_lexer": "ipython3",
   "version": "3.10.12"
  }
 },
 "nbformat": 4,
 "nbformat_minor": 2
}
